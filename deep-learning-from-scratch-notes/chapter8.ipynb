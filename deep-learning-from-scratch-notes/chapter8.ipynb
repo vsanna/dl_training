{
 "cells": [
  {
   "cell_type": "code",
   "execution_count": null,
   "metadata": {
    "collapsed": true
   },
   "outputs": [],
   "source": [
    "# 8章 ディープラーニング\n",
    "- 層を深くしたNN\n",
    "- 更に精度を高めるには？\n",
    "    - [ ] アンサンブル学習\n",
    "    - 学習係数の減衰\n",
    "    - データ拡張などが有効\n",
    "        - 訓練画像をアルゴリズムによって甚句的に拡張する\n",
    "        - ex: 回転や縦方向の移動、微妙な拡大などを行い画像枚数を増やす\n",
    "        - [ ] 実際のやり方\n",
    "- なぜ層を増やすのか\n",
    "    - その重要性は理論的には実は余りわかっていない\n",
    "    - なぜかわからないけど、増やすと認識精度が高まる\n",
    "    - 直感的なメリット\n",
    "        1. 層を深くしたネットワークはそうでない場合に比べ、より少ないパラメーターで同レベル以上の表現力を持つ\n",
    "        2. 少ない学習データで効率的に学習を行える\n",
    "- DLの歴史\n",
    "    - 2012. ImageNetという100万枚の画像データを用いたコンペティションでAlexNetが圧倒的な成績で優勝\n",
    "    - 一気にDLが話題に上がる\n",
    "- 転移学習\n",
    "    - 巨大なデータセットを使って学習した重みデータ=  学習済みの重みを別のNNに移して再学習すること\n",
    "- 学習の高速化\n",
    "    - GPUの利用\n",
    "        - 計算時間の大半は畳み込み層の積和演算にかかっている\n",
    "        - 積和演算のような並列的な演算はGPUが得意\n",
    "        - nvidiaがサポート手厚く、実質nvidiaのCUDAというGPUコンピューティング向け統合開発環境しか無い\n",
    "    - 分散学習\n",
    "        - tensorFlowなど"
   ]
  }
 ],
 "metadata": {
  "kernelspec": {
   "display_name": "Python 3",
   "language": "python",
   "name": "python3"
  },
  "language_info": {
   "codemirror_mode": {
    "name": "ipython",
    "version": 3
   },
   "file_extension": ".py",
   "mimetype": "text/x-python",
   "name": "python",
   "nbconvert_exporter": "python",
   "pygments_lexer": "ipython3",
   "version": "3.5.1"
  }
 },
 "nbformat": 4,
 "nbformat_minor": 0
}
