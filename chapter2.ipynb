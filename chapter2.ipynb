{
 "cells": [
  {
   "cell_type": "code",
   "execution_count": 5,
   "metadata": {
    "collapsed": false
   },
   "outputs": [
    {
     "name": "stdout",
     "output_type": "stream",
     "text": [
      "0\n"
     ]
    },
    {
     "data": {
      "text/plain": [
       "'\\n- これはつまり、パーセプトロンでは層を重ねることで、表現が柔軟になったといえる\\n- NANDだけでもコンピューターは実装できるので、つまりパーセプトロンでもコンピュータを実装できるということが言える\\n    - [ ] ここでいうコンピューターが一体何かわからない\\n    - [ ] 実際に作るとしたら大変なので、ANDやORゲート、半加算器、全加算器、算術論理演算装置、CPUといった順でモジュールごとに開発するらしい。まずこれらがわからない\\n'"
      ]
     },
     "execution_count": 5,
     "metadata": {},
     "output_type": "execute_result"
    }
   ],
   "source": [
    "'''\n",
    "# 二章 パーセプトロン\n",
    "\n",
    "- パーセプトロンとは\n",
    "    - 複数の信号を受取り、一つの信号を出力するもの\n",
    "    - あるノード(ニューロンとも。)は受け取った信号の総和がある閾値を超えたかどうかで自身も信号を発信するかどうかを決める\n",
    "    \n",
    "簡単な実装は以下の通り\n",
    "'''\n",
    "\n",
    "def simple_perceptron(x1, x2):\n",
    "    w1, w2, theta = 0.5, 0.5, 0.7 # 重みと閾値\n",
    "    tmp = x1*w1 + x2*w2\n",
    "    if tmp >= theta:\n",
    "        return 1\n",
    "    else:\n",
    "        return 0\n",
    "    \n",
    "print(simple_perceptron(0.1, 0.1))\n",
    "\n",
    "'''\n",
    "- wを重みといい、-thetaに当たるものをb: バイアスと呼ぶ\n",
    "- NumPyを使って再実装\n",
    "\n",
    "'''\n",
    "\n",
    "import numpy as np\n",
    "def simple_perceptron(x1, x2):\n",
    "    x = np.array([x1, x2])\n",
    "    w = np.array([0.5, 0.5])\n",
    "    b = -0.7\n",
    "    tmp = np.sum(x*w) # 行列の掛け算を計算してくれる？\n",
    "    return 1 if (tmp + b >= 0) else 0\n",
    "    \n",
    "simple_perceptron(0.9, 0.9)\n",
    "    \n",
    "'''\n",
    "- パラメーターである、wとb(θ)をコンピューターが適切に設定する作業を学習という\n",
    "    - w: 重みは入力信号の重要度を示し、b: バイアスは発火しやすさを示す\n",
    "- 人間の仕事は、\n",
    "    1. パーセプトロンの構造 = モデルを考え、\n",
    "    2. 学習データをコンピューターに与えること\n",
    "\n",
    "## パーセプトロンの限界\n",
    "- パーセプトロンは線形の判定しか出来ない(p30, p31)\n",
    "- その限界を、「パーセプトロンの層を重ねる」ことにより超えられる = 多層パーセプトロン\n",
    "- [ ] その例を論理回路によりみてみる(なぜ題材が論理回路なのかは不明)\n",
    "\n",
    "'''\n",
    "\n",
    "# 論理回路のベースとなる関数\n",
    "def base(x1, x2, w1, w2, b):\n",
    "    x = np.array([x1, x2])\n",
    "    w = np.array([w1, w2])\n",
    "    tmp = np.sum(x*w) # 行列の掛け算を計算してくれる？\n",
    "    return 1 if (tmp + b >= 0) else 0\n",
    "    \n",
    "\n",
    "x1 = 0.3\n",
    "x2 = 0.6\n",
    "# AND\n",
    "base(x1, x2, 0.5, 0.5, -0.7)\n",
    "\n",
    "# NAND ... andの逆転した結果を返す\n",
    "base(x1, x2, -0.5, -0.5, 0.7)\n",
    "\n",
    "# OR\n",
    "base(x1, x2, 0.5, 0.5, -0.2)\n",
    "\n",
    "'''\n",
    "- XORは単層のパーセプトロンでは実装できないが、いかのようにすれば実装できる\n",
    "    - XOR ... 二つの命題のいずれか一方のみが真のときに真となり、両方真や両方偽のときは偽となるもの。\n",
    "- AND(NAND(x1, x2), OR(x1, x2))\n",
    "- なので以下のようにかける\n",
    "\n",
    "'''\n",
    "\n",
    "base(base(x1, x2, -0.5, -0.5, 0.7), base(x1, x2, 0.5, 0.5, -0.2), 0.5, 0.5, -0.7)\n",
    "\n",
    "\n",
    "'''\n",
    "- これはつまり、パーセプトロンでは層を重ねることで、表現が柔軟になったといえる\n",
    "- NANDだけでもコンピューターは実装できるので、つまりパーセプトロンでもコンピュータを実装できるということが言える\n",
    "    - [ ] ここでいうコンピューターが一体何かわからない\n",
    "    - [ ] 実際に作るとしたら大変なので、ANDやORゲート、半加算器、全加算器、算術論理演算装置、CPUといった順でモジュールごとに開発するらしい。まずこれらがわからない\n",
    "'''\n",
    "\n"
   ]
  },
  {
   "cell_type": "code",
   "execution_count": null,
   "metadata": {
    "collapsed": true
   },
   "outputs": [],
   "source": []
  },
  {
   "cell_type": "code",
   "execution_count": null,
   "metadata": {
    "collapsed": true
   },
   "outputs": [],
   "source": []
  }
 ],
 "metadata": {
  "kernelspec": {
   "display_name": "Python 3",
   "language": "python",
   "name": "python3"
  },
  "language_info": {
   "codemirror_mode": {
    "name": "ipython",
    "version": 3
   },
   "file_extension": ".py",
   "mimetype": "text/x-python",
   "name": "python",
   "nbconvert_exporter": "python",
   "pygments_lexer": "ipython3",
   "version": "3.5.1"
  }
 },
 "nbformat": 4,
 "nbformat_minor": 0
}
