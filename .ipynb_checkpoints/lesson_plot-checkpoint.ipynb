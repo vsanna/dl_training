{
 "cells": [
  {
   "cell_type": "markdown",
   "metadata": {},
   "source": [
    "# matlabplotの使い方に慣れる\n",
    "\n",
    "- 基本的なグラフ図形の書き方\n",
    "    - 折れ線\n",
    "    - 散布図\n",
    "    - 棒グラフ\n",
    "    - 時系列\n",
    "    - 円グラフ\n",
    "    - 分布\n",
    "- グラフの修飾\n",
    "    - ラベル\n",
    "    - 汎用\n",
    "    - グラフの表示範囲(値域)の指定\n",
    "    - 線の修飾\n",
    "        - style\n",
    "        - color\n",
    "    - 棒 / pieの修飾\n",
    "        - color\n",
    "- その他\n",
    "    - グラフの重ね合わせ\n",
    "    - グラフの複数表示\n",
    "    - 3次元\n"
   ]
  },
  {
   "cell_type": "code",
   "execution_count": 2,
   "metadata": {
    "collapsed": false
   },
   "outputs": [
    {
     "ename": "AttributeError",
     "evalue": "'Figure' object has no attribute 'plot'",
     "output_type": "error",
     "traceback": [
      "\u001b[0;31m---------------------------------------------------------------------------\u001b[0m",
      "\u001b[0;31mAttributeError\u001b[0m                            Traceback (most recent call last)",
      "\u001b[0;32m<ipython-input-2-9e78e366e44e>\u001b[0m in \u001b[0;36m<module>\u001b[0;34m()\u001b[0m\n\u001b[1;32m      5\u001b[0m \u001b[0mx\u001b[0m \u001b[0;34m=\u001b[0m \u001b[0mnp\u001b[0m\u001b[0;34m.\u001b[0m\u001b[0marange\u001b[0m\u001b[0;34m(\u001b[0m\u001b[0;36m0\u001b[0m\u001b[0;34m,\u001b[0m \u001b[0;36m10\u001b[0m\u001b[0;34m,\u001b[0m \u001b[0;36m1\u001b[0m\u001b[0;34m)\u001b[0m\u001b[0;34m\u001b[0m\u001b[0m\n\u001b[1;32m      6\u001b[0m \u001b[0my\u001b[0m \u001b[0;34m=\u001b[0m \u001b[0mx\u001b[0m \u001b[0;34m**\u001b[0m \u001b[0;36m2\u001b[0m\u001b[0;34m\u001b[0m\u001b[0m\n\u001b[0;32m----> 7\u001b[0;31m \u001b[0mfig\u001b[0m\u001b[0;34m.\u001b[0m\u001b[0mplot\u001b[0m\u001b[0;34m(\u001b[0m\u001b[0mx\u001b[0m\u001b[0;34m,\u001b[0m \u001b[0my\u001b[0m\u001b[0;34m)\u001b[0m\u001b[0;34m\u001b[0m\u001b[0m\n\u001b[0m\u001b[1;32m      8\u001b[0m \u001b[0mfig\u001b[0m\u001b[0;34m.\u001b[0m\u001b[0mshow\u001b[0m\u001b[0;34m(\u001b[0m\u001b[0;34m)\u001b[0m\u001b[0;34m\u001b[0m\u001b[0m\n",
      "\u001b[0;31mAttributeError\u001b[0m: 'Figure' object has no attribute 'plot'"
     ]
    }
   ],
   "source": [
    "import numpy as np\n",
    "import matplotlib.pylab as plt\n",
    "\n",
    "## 最も基本的な折れ線グラフの使い方\n",
    "x = np.arange(0, 10, 1)\n",
    "y = x ** 2\n",
    "plt.xlabel = 'hoge'\n",
    "plt.ylabel = 'geho'\n",
    "plt.plot(x, y)\n",
    "plt.show()\n",
    "\n",
    "## 複数グラフを重ねてかく\n",
    "plt.plot([1,2,3], [3,6,2], '--',[10,20,30], 'g*')\n",
    "plt.plot()\n",
    "\n",
    "## 散布図\n",
    "\n",
    "## 棒グラフ\n",
    "\n",
    "## 時系列図\n",
    "\n",
    "## 円グラフ\n",
    "\n",
    "## 分布\n",
    "\n"
   ]
  },
  {
   "cell_type": "code",
   "execution_count": null,
   "metadata": {
    "collapsed": true
   },
   "outputs": [],
   "source": []
  }
 ],
 "metadata": {
  "kernelspec": {
   "display_name": "Python 3",
   "language": "python",
   "name": "python3"
  },
  "language_info": {
   "codemirror_mode": {
    "name": "ipython",
    "version": 3
   },
   "file_extension": ".py",
   "mimetype": "text/x-python",
   "name": "python",
   "nbconvert_exporter": "python",
   "pygments_lexer": "ipython3",
   "version": "3.5.1"
  }
 },
 "nbformat": 4,
 "nbformat_minor": 0
}
